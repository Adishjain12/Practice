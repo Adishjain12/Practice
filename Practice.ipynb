{
 "cells": [
  {
   "cell_type": "markdown",
   "metadata": {},
   "source": [
    "# Data Structure"
   ]
  },
  {
   "cell_type": "raw",
   "metadata": {},
   "source": [
    "Data Structure: A data structure is a particular way of organizing data in a\n",
    "                computer so that it can be used effectively.\n",
    "        \n",
    "Types of Data Structures:    \n",
    "Built in \t\t\tUser Defined\n",
    "List\t\t\t    Stack\n",
    "Tuple\t\t\t    Queue\n",
    "Set\t\t\t        Linked List\n",
    "Dictionary          Tree\n",
    "                    Graph        "
   ]
  },
  {
   "cell_type": "code",
   "execution_count": 3,
   "metadata": {},
   "outputs": [
    {
     "name": "stdout",
     "output_type": "stream",
     "text": [
      "Hello World\n"
     ]
    }
   ],
   "source": [
    "print(\"Hello World\")"
   ]
  },
  {
   "cell_type": "code",
   "execution_count": 4,
   "metadata": {},
   "outputs": [
    {
     "name": "stdout",
     "output_type": "stream",
     "text": [
      "3.4\n"
     ]
    }
   ],
   "source": [
    "number = 3.4\n",
    "print(number)"
   ]
  },
  {
   "cell_type": "code",
   "execution_count": 5,
   "metadata": {},
   "outputs": [
    {
     "data": {
      "text/plain": [
       "float"
      ]
     },
     "execution_count": 5,
     "metadata": {},
     "output_type": "execute_result"
    }
   ],
   "source": [
    "type(number)"
   ]
  },
  {
   "cell_type": "markdown",
   "metadata": {},
   "source": [
    "# List"
   ]
  },
  {
   "cell_type": "raw",
   "metadata": {},
   "source": [
    "List: Lists are used to store multiple items in a single variable.\n",
    "Example: list1 = [\"abc\", 34, True, 40, \"male\"]\n",
    "\n",
    "Characteristics of List:\n",
    "1.\tMutable\n",
    "2.\tLinear Data Structure\n",
    "3.\tMixed Type Elements\n",
    "4.\tVariable Length\n",
    "5.\tZero Based Indexing"
   ]
  },
  {
   "cell_type": "code",
   "execution_count": 6,
   "metadata": {},
   "outputs": [
    {
     "data": {
      "text/plain": [
       "[]"
      ]
     },
     "execution_count": 6,
     "metadata": {},
     "output_type": "execute_result"
    }
   ],
   "source": [
    "nums = []\n",
    "nums"
   ]
  },
  {
   "cell_type": "code",
   "execution_count": 8,
   "metadata": {},
   "outputs": [
    {
     "data": {
      "text/plain": [
       "[20, 10]"
      ]
     },
     "execution_count": 8,
     "metadata": {},
     "output_type": "execute_result"
    }
   ],
   "source": [
    "#Nested List:\n",
    "\n",
    "List2 = [[20,10], [30,40]]\n",
    "List2[0]"
   ]
  },
  {
   "cell_type": "code",
   "execution_count": 10,
   "metadata": {},
   "outputs": [
    {
     "name": "stdout",
     "output_type": "stream",
     "text": [
      "[20, 10]\n",
      "[30, 40]\n"
     ]
    }
   ],
   "source": [
    "for num in List2:\n",
    "    print(num)"
   ]
  },
  {
   "cell_type": "raw",
   "metadata": {},
   "source": [
    "Operations on List:\n",
    "1.\tReplace (list[index]='data')\n",
    "2.\tInsert [list.insert(index,'data')]\n",
    "3.\tSort (applied on list having same data type )\n",
    "4.\tDelete (del list[index])\n",
    "5.\tAppend (append at the end of list...[list.append(\"data\")])\n",
    "6.\tReverse [list.reverse()]"
   ]
  },
  {
   "cell_type": "code",
   "execution_count": 12,
   "metadata": {},
   "outputs": [
    {
     "data": {
      "text/plain": [
       "[10, 20, 40, 5.7]"
      ]
     },
     "execution_count": 12,
     "metadata": {},
     "output_type": "execute_result"
    }
   ],
   "source": [
    "list = [10, 20, 40, 5.7]\n",
    "list"
   ]
  },
  {
   "cell_type": "code",
   "execution_count": 14,
   "metadata": {},
   "outputs": [
    {
     "data": {
      "text/plain": [
       "[10, 20, 3.7, 5.7]"
      ]
     },
     "execution_count": 14,
     "metadata": {},
     "output_type": "execute_result"
    }
   ],
   "source": [
    "#Replace\n",
    "list[2] = 3.7\n",
    "list"
   ]
  },
  {
   "cell_type": "code",
   "execution_count": 15,
   "metadata": {},
   "outputs": [
    {
     "data": {
      "text/plain": [
       "[10, 20, 'Hello', 3.7, 5.7]"
      ]
     },
     "execution_count": 15,
     "metadata": {},
     "output_type": "execute_result"
    }
   ],
   "source": [
    "#Insert\n",
    "list.insert(2,'Hello')\n",
    "list"
   ]
  },
  {
   "cell_type": "code",
   "execution_count": 21,
   "metadata": {},
   "outputs": [
    {
     "data": {
      "text/plain": [
       "[[20, 10], [30, 40]]"
      ]
     },
     "execution_count": 21,
     "metadata": {},
     "output_type": "execute_result"
    }
   ],
   "source": [
    "#Sort\n",
    "List2.sort()\n",
    "List2"
   ]
  },
  {
   "cell_type": "code",
   "execution_count": 23,
   "metadata": {},
   "outputs": [
    {
     "data": {
      "text/plain": [
       "[10, 20, 3.7, 5.7]"
      ]
     },
     "execution_count": 23,
     "metadata": {},
     "output_type": "execute_result"
    }
   ],
   "source": [
    "#Delete\n",
    "del list[2]\n",
    "list"
   ]
  },
  {
   "cell_type": "code",
   "execution_count": 24,
   "metadata": {},
   "outputs": [
    {
     "data": {
      "text/plain": [
       "[10, 20, 3.7, 5.7, 'Rishabh']"
      ]
     },
     "execution_count": 24,
     "metadata": {},
     "output_type": "execute_result"
    }
   ],
   "source": [
    "#Append\n",
    "list.append(\"Rishabh\")\n",
    "list"
   ]
  },
  {
   "cell_type": "code",
   "execution_count": 32,
   "metadata": {},
   "outputs": [
    {
     "data": {
      "text/plain": [
       "['Rishabh', 5.7, 3.7, 20, 10]"
      ]
     },
     "execution_count": 32,
     "metadata": {},
     "output_type": "execute_result"
    }
   ],
   "source": [
    "#Reverse\n",
    "list.reverse()\n",
    "list"
   ]
  },
  {
   "cell_type": "markdown",
   "metadata": {},
   "source": [
    "# Tuple"
   ]
  },
  {
   "cell_type": "raw",
   "metadata": {},
   "source": [
    "Tuples are used to store multiple items in a single variable.\n",
    "A tuple is a collection which is ordered and unchangeable.\n",
    "Tuples are written with round brackets.\n",
    "\n",
    "Immutable\n",
    "Zero based index"
   ]
  },
  {
   "cell_type": "code",
   "execution_count": 35,
   "metadata": {},
   "outputs": [
    {
     "data": {
      "text/plain": [
       "('dog', 'cat')"
      ]
     },
     "execution_count": 35,
     "metadata": {},
     "output_type": "execute_result"
    }
   ],
   "source": [
    "t = ('dog','cat')\n",
    "t"
   ]
  },
  {
   "cell_type": "code",
   "execution_count": 36,
   "metadata": {},
   "outputs": [
    {
     "data": {
      "text/plain": [
       "'dog'"
      ]
     },
     "execution_count": 36,
     "metadata": {},
     "output_type": "execute_result"
    }
   ],
   "source": [
    "t[0]"
   ]
  },
  {
   "cell_type": "code",
   "execution_count": 38,
   "metadata": {},
   "outputs": [
    {
     "data": {
      "text/plain": [
       "2.3"
      ]
     },
     "execution_count": 38,
     "metadata": {},
     "output_type": "execute_result"
    }
   ],
   "source": [
    "t1 = ((10,2.3),(3.5,4))\n",
    "t1[0][1]"
   ]
  },
  {
   "cell_type": "raw",
   "metadata": {},
   "source": [
    "No operations in tuples as it is immutable.\n"
   ]
  },
  {
   "cell_type": "markdown",
   "metadata": {},
   "source": [
    "# Python Sequences"
   ]
  },
  {
   "cell_type": "raw",
   "metadata": {},
   "source": [
    "Sequences are a generic term for an ordered set which means that the order in which we input the items will be the same when we access them.\n",
    "\n",
    "Python supports six different types of sequences. These are strings, lists, tuples, byte sequences, byte arrays, and range objects.\n",
    "\n",
    "Operations on Python Sequences\n",
    "1. Length\n",
    "2. Select\n",
    "3. Slice\n",
    "4. Count\n",
    "5. Index\n",
    "6. Membership\n",
    "7. Concatination\n",
    "8. Min Value\n",
    "9. Max Value \n",
    "10. Sum"
   ]
  },
  {
   "cell_type": "markdown",
   "metadata": {},
   "source": [
    "# Input and Output"
   ]
  },
  {
   "cell_type": "code",
   "execution_count": 16,
   "metadata": {},
   "outputs": [
    {
     "name": "stdout",
     "output_type": "stream",
     "text": [
      "Enter name : Rishabh\n",
      "Hello Rishabh\n"
     ]
    }
   ],
   "source": [
    "name = input(\"Enter name : \")\n",
    "print(\"Hello\", name)"
   ]
  },
  {
   "cell_type": "code",
   "execution_count": 1,
   "metadata": {},
   "outputs": [
    {
     "name": "stdout",
     "output_type": "stream",
     "text": [
      "Number1 : 3\n",
      "Number2 : 56\n",
      "Product is : 168\n"
     ]
    }
   ],
   "source": [
    "num1 = int(input(\"Number1 : \"))\n",
    "num2 = int(input(\"Number2 : \"))\n",
    "print(\"Product is :\", num1*num2)"
   ]
  },
  {
   "cell_type": "markdown",
   "metadata": {},
   "source": [
    "# Functions"
   ]
  },
  {
   "cell_type": "code",
   "execution_count": 9,
   "metadata": {},
   "outputs": [
    {
     "name": "stdout",
     "output_type": "stream",
     "text": [
      "Hello\n",
      "Hello Again\n",
      "Hello\n",
      "Hello Again\n"
     ]
    }
   ],
   "source": [
    "def fun():\n",
    "    print(\"Hello\")\n",
    "    print(\"Hello Again\")\n",
    "fun()\n",
    "\n",
    "\n",
    "fun()"
   ]
  },
  {
   "cell_type": "code",
   "execution_count": 10,
   "metadata": {},
   "outputs": [
    {
     "name": "stdout",
     "output_type": "stream",
     "text": [
      "Main started\n",
      "call started\n",
      "Enter number : 852\n"
     ]
    }
   ],
   "source": [
    "def getint():\n",
    "    a = int(input(\"Enter number : \"))\n",
    "    return a\n",
    "\n",
    "def call():\n",
    "    print(\"call started\")\n",
    "    return getint()\n",
    "\n",
    "if __name__ ==\"__main__\":\n",
    "    print(\"Main started\")\n",
    "    call()\n"
   ]
  },
  {
   "cell_type": "markdown",
   "metadata": {},
   "source": [
    "# Looping"
   ]
  },
  {
   "cell_type": "code",
   "execution_count": 15,
   "metadata": {},
   "outputs": [
    {
     "name": "stdout",
     "output_type": "stream",
     "text": [
      "0\n",
      "1\n",
      "2\n",
      "3\n",
      "4\n"
     ]
    }
   ],
   "source": [
    "for i in range(5):\n",
    "    print(i)"
   ]
  },
  {
   "cell_type": "code",
   "execution_count": 41,
   "metadata": {},
   "outputs": [],
   "source": [
    "def rev(arr,n):\n",
    "    n=int(input())\n",
    "    for i in range(n):\n",
    "        p=arr[i]\n",
    "        print(p)\n"
   ]
  },
  {
   "cell_type": "code",
   "execution_count": 42,
   "metadata": {},
   "outputs": [
    {
     "name": "stdout",
     "output_type": "stream",
     "text": [
      "5\n"
     ]
    },
    {
     "ename": "TypeError",
     "evalue": "'int' object is not subscriptable",
     "output_type": "error",
     "traceback": [
      "\u001b[1;31m---------------------------------------------------------------------------\u001b[0m",
      "\u001b[1;31mTypeError\u001b[0m                                 Traceback (most recent call last)",
      "\u001b[1;32m<ipython-input-42-54d79b70f19d>\u001b[0m in \u001b[0;36m<module>\u001b[1;34m\u001b[0m\n\u001b[1;32m----> 1\u001b[1;33m \u001b[0mrev\u001b[0m\u001b[1;33m(\u001b[0m\u001b[0marr\u001b[0m\u001b[1;33m,\u001b[0m\u001b[0mn\u001b[0m\u001b[1;33m)\u001b[0m\u001b[1;33m\u001b[0m\u001b[1;33m\u001b[0m\u001b[0m\n\u001b[0m",
      "\u001b[1;32m<ipython-input-41-c4e0ad62156a>\u001b[0m in \u001b[0;36mrev\u001b[1;34m(arr, n)\u001b[0m\n\u001b[0;32m      2\u001b[0m     \u001b[0mn\u001b[0m\u001b[1;33m=\u001b[0m\u001b[0mint\u001b[0m\u001b[1;33m(\u001b[0m\u001b[0minput\u001b[0m\u001b[1;33m(\u001b[0m\u001b[1;33m)\u001b[0m\u001b[1;33m)\u001b[0m\u001b[1;33m\u001b[0m\u001b[1;33m\u001b[0m\u001b[0m\n\u001b[0;32m      3\u001b[0m     \u001b[1;32mfor\u001b[0m \u001b[0mi\u001b[0m \u001b[1;32min\u001b[0m \u001b[0mrange\u001b[0m\u001b[1;33m(\u001b[0m\u001b[0mn\u001b[0m\u001b[1;33m)\u001b[0m\u001b[1;33m:\u001b[0m\u001b[1;33m\u001b[0m\u001b[1;33m\u001b[0m\u001b[0m\n\u001b[1;32m----> 4\u001b[1;33m         \u001b[0mp\u001b[0m\u001b[1;33m=\u001b[0m\u001b[0marr\u001b[0m\u001b[1;33m[\u001b[0m\u001b[0mi\u001b[0m\u001b[1;33m]\u001b[0m\u001b[1;33m\u001b[0m\u001b[1;33m\u001b[0m\u001b[0m\n\u001b[0m\u001b[0;32m      5\u001b[0m         \u001b[0mprint\u001b[0m\u001b[1;33m(\u001b[0m\u001b[0mp\u001b[0m\u001b[1;33m)\u001b[0m\u001b[1;33m\u001b[0m\u001b[1;33m\u001b[0m\u001b[0m\n",
      "\u001b[1;31mTypeError\u001b[0m: 'int' object is not subscriptable"
     ]
    }
   ],
   "source": [
    "rev(arr,n)"
   ]
  },
  {
   "cell_type": "code",
   "execution_count": 33,
   "metadata": {},
   "outputs": [
    {
     "name": "stdout",
     "output_type": "stream",
     "text": [
      "3\n",
      "4\n",
      "[3, 2, 1, 0]\n",
      "5\n",
      "[4, 3, 2, 1, 0]\n",
      "78\n",
      "[77, 76, 75, 74, 73, 72, 71, 70, 69, 68, 67, 66, 65, 64, 63, 62, 61, 60, 59, 58, 57, 56, 55, 54, 53, 52, 51, 50, 49, 48, 47, 46, 45, 44, 43, 42, 41, 40, 39, 38, 37, 36, 35, 34, 33, 32, 31, 30, 29, 28, 27, 26, 25, 24, 23, 22, 21, 20, 19, 18, 17, 16, 15, 14, 13, 12, 11, 10, 9, 8, 7, 6, 5, 4, 3, 2, 1, 0]\n"
     ]
    }
   ],
   "source": [
    "#Print Reverse order with input no. of testcases\n",
    "\n",
    "T = int(input())\n",
    "\n",
    "while T:\n",
    "    n=int(input())\n",
    "    a=[]\n",
    "    for i in range(n):\n",
    "        a.append(i)\n",
    "    a.reverse()\n",
    "    print(a)\n",
    "    \n",
    "    T-=1"
   ]
  },
  {
   "cell_type": "code",
   "execution_count": 26,
   "metadata": {},
   "outputs": [
    {
     "name": "stdout",
     "output_type": "stream",
     "text": [
      "1\n",
      "4\n",
      "1 2 3 4\n",
      "4 3 2 1 \n"
     ]
    }
   ],
   "source": [
    "T = int(input())\n",
    "\n",
    "while T:\n",
    "    \n",
    "    N = int(input())\n",
    "    \n",
    "    A = [int(x) for x in input().split()]\n",
    "    \n",
    "    A.reverse()\n",
    "    \n",
    "    for x in A:\n",
    "        print(x, end=\" \")\n",
    "    \n",
    "    print()\n",
    "    \n",
    "    T -= 1"
   ]
  },
  {
   "cell_type": "markdown",
   "metadata": {},
   "source": [
    "# Largest element in Array"
   ]
  },
  {
   "cell_type": "code",
   "execution_count": null,
   "metadata": {},
   "outputs": [],
   "source": [
    "#From List\n",
    "\n",
    "lst=[]\n",
    "n=int(input())\n",
    "def largest(lst,n):\n",
    "    for i in range(0,n):\n",
    "        ele = int(input())\n",
    "        lst.append(ele)\n",
    "    print(max(lst))    \n",
    "largest(lst,n)"
   ]
  },
  {
   "cell_type": "code",
   "execution_count": 28,
   "metadata": {},
   "outputs": [],
   "source": [
    "#From Array\n",
    "\n",
    "def largest(arr,n):\n",
    "    \n",
    "    for i in range(1,n):\n",
    "        max=arr[0]\n",
    "            \n",
    "        if arr[i]>max:\n",
    "            max=arr[i]\n",
    "    return max"
   ]
  },
  {
   "cell_type": "code",
   "execution_count": 36,
   "metadata": {},
   "outputs": [
    {
     "data": {
      "text/plain": [
       "[-3, -2, -1, 1, 2, 3, 3, 4]"
      ]
     },
     "execution_count": 36,
     "metadata": {},
     "output_type": "execute_result"
    }
   ],
   "source": [
    "#Sum Of Array\n",
    "\n",
    "p=[1,2,3,3,4,5,6,-1,-2,-3]\n",
    "p.sort()\n",
    "\n",
    "p[:int(len(p)-2):]"
   ]
  },
  {
   "cell_type": "code",
   "execution_count": 37,
   "metadata": {},
   "outputs": [],
   "source": [
    "'''Given a array of length N, at each step it is reduced by 1 element. In the first step the maximum element would be removed, \n",
    "while in the second step minimum element of the remaining array would be removed, in the third step again the maximum and so on.\n",
    "Continue this till the array contains only 1 element. And find the final element remaining in the array'''\n",
    "\n",
    "class Solution:\n",
    "    def leftElement(self, a, n):\n",
    "        a.sort()\n",
    "        mid=n//2\n",
    "        if n%2==0:\n",
    "            return a[mid-1]\n",
    "        else:\n",
    "            return a[mid]"
   ]
  },
  {
   "cell_type": "code",
   "execution_count": 39,
   "metadata": {},
   "outputs": [],
   "source": [
    "#Second Largest Element:\n",
    "\n",
    "class Solution:\n",
    "    def print2largest(self,arr, n):\n",
    "        arr.sort()\n",
    "        for i in range(n-2,-1,-1): #same as reversed(range(n-2))\n",
    "            if arr[i]!=arr[n-1]:\n",
    "                return arr[i]\n",
    "        return -1"
   ]
  },
  {
   "cell_type": "markdown",
   "metadata": {},
   "source": [
    "Find minimum and maximum element in an array "
   ]
  },
  {
   "cell_type": "code",
   "execution_count": 7,
   "metadata": {},
   "outputs": [
    {
     "name": "stdout",
     "output_type": "stream",
     "text": [
      "5\n",
      "78\n",
      "89\n",
      "45\n",
      "35\n",
      "11\n",
      "[78, 89, 45, 35, 11]\n",
      "Minimum is : 11\n",
      "Maximum is : 89\n"
     ]
    }
   ],
   "source": [
    "l=[]\n",
    "\n",
    "n = int(input())\n",
    "for i in range(n):\n",
    "    p = int(input())\n",
    "    l.append(p)\n",
    "    maximum = max(l)\n",
    "    minimum = min(l)\n",
    "     \n",
    "print(l)\n",
    "print(\"Minimum is :\",minimum)\n",
    "print(\"Maximum is :\",maximum)\n",
    "\n",
    "\n",
    "def getMinMax( a, n):\n",
    "    return min(a),max(a)\n",
    "\n",
    "\n",
    "def getMinMax( a, n):\n",
    "    a.sort()\n",
    "    max=a[-1]\n",
    "    min=a[0]\n",
    "    return min,max"
   ]
  },
  {
   "cell_type": "code",
   "execution_count": 13,
   "metadata": {},
   "outputs": [
    {
     "name": "stdout",
     "output_type": "stream",
     "text": [
      "1\n",
      "1\n",
      "5\n"
     ]
    },
    {
     "ename": "TypeError",
     "evalue": "maxmin() takes 0 positional arguments but 1 was given",
     "output_type": "error",
     "traceback": [
      "\u001b[1;31m---------------------------------------------------------------------------\u001b[0m",
      "\u001b[1;31mTypeError\u001b[0m                                 Traceback (most recent call last)",
      "\u001b[1;32m<ipython-input-13-a89789ef46bf>\u001b[0m in \u001b[0;36m<module>\u001b[1;34m\u001b[0m\n\u001b[0;32m      4\u001b[0m     \u001b[0marr\u001b[0m\u001b[1;33m=\u001b[0m\u001b[1;33m[\u001b[0m\u001b[1;33m]\u001b[0m\u001b[1;33m\u001b[0m\u001b[1;33m\u001b[0m\u001b[0m\n\u001b[0;32m      5\u001b[0m     \u001b[0mn\u001b[0m \u001b[1;33m=\u001b[0m \u001b[0mint\u001b[0m\u001b[1;33m(\u001b[0m\u001b[0minput\u001b[0m\u001b[1;33m(\u001b[0m\u001b[1;33m)\u001b[0m\u001b[1;33m)\u001b[0m\u001b[1;33m\u001b[0m\u001b[1;33m\u001b[0m\u001b[0m\n\u001b[1;32m----> 6\u001b[1;33m     \u001b[0mmaxmin\u001b[0m\u001b[1;33m(\u001b[0m\u001b[0mn\u001b[0m\u001b[1;33m)\u001b[0m\u001b[1;33m;\u001b[0m\u001b[1;33m\u001b[0m\u001b[1;33m\u001b[0m\u001b[0m\n\u001b[0m\u001b[0;32m      7\u001b[0m     \u001b[0mprint\u001b[0m\u001b[1;33m(\u001b[0m\u001b[1;34m\"2\"\u001b[0m\u001b[1;33m)\u001b[0m\u001b[1;33m\u001b[0m\u001b[1;33m\u001b[0m\u001b[0m\n\u001b[0;32m      8\u001b[0m     \u001b[1;32mdef\u001b[0m \u001b[0mmaxmin\u001b[0m\u001b[1;33m(\u001b[0m\u001b[0mn\u001b[0m\u001b[1;33m)\u001b[0m\u001b[1;33m:\u001b[0m\u001b[1;33m\u001b[0m\u001b[1;33m\u001b[0m\u001b[0m\n",
      "\u001b[1;31mTypeError\u001b[0m: maxmin() takes 0 positional arguments but 1 was given"
     ]
    }
   ],
   "source": [
    "t=int(input())\n",
    "print(\"1\")\n",
    "while(t):\n",
    "    arr=[]\n",
    "    n = int(input())\n",
    "    maxmin(n);\n",
    "    print(\"2\")\n",
    "    def maxmin(n):\n",
    "        for i in range(n):\n",
    "            p = int(input())\n",
    "            arr.append(p)\n",
    "            max=arr[0]\n",
    "            if arr[i]>max:\n",
    "                max=arr[i]\n",
    "            return max\n",
    "                \n",
    "    t=t-1"
   ]
  },
  {
   "cell_type": "code",
   "execution_count": 9,
   "metadata": {},
   "outputs": [
    {
     "name": "stdout",
     "output_type": "stream",
     "text": [
      "4\n",
      "4\n",
      "5\n",
      "1\n",
      "-5\n",
      "None\n"
     ]
    }
   ],
   "source": [
    "n=int(input())\n",
    "arr=[]\n",
    "for i in range(n):\n",
    "    array=int(input())\n",
    "    arr.append(array)\n",
    "    l=arr.sort()\n",
    "    \n",
    "print(l)"
   ]
  },
  {
   "cell_type": "code",
   "execution_count": 11,
   "metadata": {},
   "outputs": [
    {
     "name": "stdout",
     "output_type": "stream",
     "text": [
      "{2, 3, 4, 5, 6}\n"
     ]
    },
    {
     "data": {
      "text/plain": [
       "5"
      ]
     },
     "execution_count": 11,
     "metadata": {},
     "output_type": "execute_result"
    }
   ],
   "source": [
    "#Union of two list\n",
    "\n",
    "a=[2,3,4,5]\n",
    "b=[3,4,5,6]\n",
    "c=a+b\n",
    "\n",
    "print(set(c))\n",
    "\n",
    "len(set(c))"
   ]
  },
  {
   "cell_type": "code",
   "execution_count": 17,
   "metadata": {},
   "outputs": [
    {
     "name": "stdout",
     "output_type": "stream",
     "text": [
      "{3, 4, 5, 6, 7, 8}\n"
     ]
    }
   ],
   "source": [
    "#intersection of two lists\n",
    "\n",
    "a=[1,2,3,4,5,3,3,6]\n",
    "b=[3,4,5,6,7,8,3,3]\n",
    "\n",
    "a=set(a)\n",
    "b=set(b)\n",
    "c=a and b\n",
    "\n",
    "print(c)"
   ]
  },
  {
   "cell_type": "code",
   "execution_count": null,
   "metadata": {},
   "outputs": [],
   "source": []
  }
 ],
 "metadata": {
  "kernelspec": {
   "display_name": "Python 3",
   "language": "python",
   "name": "python3"
  },
  "language_info": {
   "codemirror_mode": {
    "name": "ipython",
    "version": 3
   },
   "file_extension": ".py",
   "mimetype": "text/x-python",
   "name": "python",
   "nbconvert_exporter": "python",
   "pygments_lexer": "ipython3",
   "version": "3.8.2"
  }
 },
 "nbformat": 4,
 "nbformat_minor": 4
}
